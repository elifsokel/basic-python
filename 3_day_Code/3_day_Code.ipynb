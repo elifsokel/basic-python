{
 "cells": [
  {
   "cell_type": "code",
   "execution_count": 9,
   "metadata": {},
   "outputs": [
    {
     "name": "stdout",
     "output_type": "stream",
     "text": [
      "6\n"
     ]
    }
   ],
   "source": [
    "two_digit_number = input(\"Type a two digit number: \")\n",
    "first_digit = int(two_digit_number[0])\n",
    "second_digit = int(two_digit_number[1])\n",
    "print(first_digit + second_digit)"
   ]
  },
  {
   "cell_type": "code",
   "execution_count": 10,
   "metadata": {},
   "outputs": [
    {
     "name": "stdout",
     "output_type": "stream",
     "text": [
      "6\n"
     ]
    }
   ],
   "source": [
    "two_digit_number = input(\"Type a two digit number: \")\n",
    "first_digit = int(two_digit_number[0])\n",
    "second_digit = int(two_digit_number[1])\n",
    "result = first_digit + second_digit\n",
    "print(result)"
   ]
  },
  {
   "cell_type": "code",
   "execution_count": 3,
   "metadata": {},
   "outputs": [
    {
     "name": "stdout",
     "output_type": "stream",
     "text": [
      "Welcome to the rollercoaster!\n",
      "Sorry, you have to grow taller before you can ride.\n"
     ]
    }
   ],
   "source": [
    "print(\"Welcome to the rollercoaster!\")\n",
    "height = int(input(\"What is your height in cm? \"))\n",
    "\n",
    "if height >= 120:\n",
    "    print(\"You can ride the rollercoaster!\")\n",
    "else:\n",
    "    print(\"Sorry, you have to grow taller before you can ride.\")  "
   ]
  },
  {
   "cell_type": "code",
   "execution_count": 13,
   "metadata": {},
   "outputs": [
    {
     "name": "stdout",
     "output_type": "stream",
     "text": [
      "This is an odd number.\n"
     ]
    }
   ],
   "source": [
    "number = int(input(\"Which number do you want to check? \"))\n",
    "\n",
    "if number % 2 == 0:\n",
    "    print(\"This is an even number.\")\n",
    "else: \n",
    "    print(\"This is an odd number.\")"
   ]
  },
  {
   "cell_type": "code",
   "execution_count": 2,
   "metadata": {},
   "outputs": [
    {
     "name": "stdout",
     "output_type": "stream",
     "text": [
      "Welcome to the rollercoaster!\n",
      "You can ride the rollercoaster!\n",
      "Please pay $18.\n"
     ]
    }
   ],
   "source": [
    "print(\"Welcome to the rollercoaster!\")\n",
    "height = int(input(\"What is your height in cm? \"))\n",
    "\n",
    "if height >= 120:\n",
    "    print(\"You can ride the rollercoaster!\")\n",
    "\n",
    "    age = int(input(\"What is your age? \"))\n",
    "    if age <= 12:\n",
    "        print(\"Please pay $5.\")\n",
    "    elif age <= 18:\n",
    "        print(\"Please pay 7$.\")\n",
    "    else:\n",
    "        print(\"Please pay $18.\")\n",
    "\n",
    "else:\n",
    "    print(\"Sorry, you have to grow taller before you can ride.\")"
   ]
  },
  {
   "cell_type": "code",
   "execution_count": 8,
   "metadata": {},
   "outputs": [
    {
     "name": "stdout",
     "output_type": "stream",
     "text": [
      "Take advantage of the book discount! Valid for books of $50 and up.\n",
      "Sorry, you can't take advantage of the book discount.\n"
     ]
    }
   ],
   "source": [
    "print(\"Take advantage of the book discount! Valid for books of $50 and up.\")\n",
    "student = int(input(\"Are you a student? Yes=1 No=0 \"))\n",
    "\n",
    "if student == 1:\n",
    "    print(\"You can take advantage of the book discount!\")\n",
    "    age = int(input(\"What is your age? \"))\n",
    "\n",
    "    if age <= 7:\n",
    "        print(\"You can get a $15 discount.\")\n",
    "    elif age <= 18:\n",
    "        print(\"You can get a $10 discount.\")\n",
    "    else:\n",
    "        print(\"You can get a $5 discount.\")\n",
    "else:\n",
    "    print(\"Sorry, you can't take advantage of the book discount.\")"
   ]
  },
  {
   "cell_type": "code",
   "execution_count": 16,
   "metadata": {},
   "outputs": [
    {
     "name": "stdout",
     "output_type": "stream",
     "text": [
      "Your BMI is 28, you are slightly overweight.\n"
     ]
    }
   ],
   "source": [
    "# BMI calculator 2.0\n",
    "# BMI = weight / height **2\n",
    "\n",
    "height = float(input(\"Enter your height in m: \"))\n",
    "weight = float(input(\"Enter your weight in kg: \"))\n",
    "bmi = round(weight / height ** 2)\n",
    "\n",
    "if bmi < 18.5:\n",
    "    print(f\"Your BMI is {bmi}, you are underweight.\")\n",
    "elif bmi < 25: \n",
    "    print(f\"Your BMI is {bmi}, you have a normal weight.\")\n",
    "elif bmi < 30:\n",
    "    print(f\"Your BMI is {bmi}, you are slightly overweight.\")\n",
    "elif bmi < 35:\n",
    "    print(f\"Your BMI is {bmi}, you are obese.\")\n",
    "else:\n",
    "    print(f\"Your BMI is {bmi}, you are clinically obese.\")"
   ]
  },
  {
   "cell_type": "code",
   "execution_count": 3,
   "metadata": {},
   "outputs": [
    {
     "name": "stdout",
     "output_type": "stream",
     "text": [
      "Not leap year.\n"
     ]
    }
   ],
   "source": [
    "# Belirli bir yılın artık yıl olup olmadığını bu şekilde anlayabiliriz.\n",
    "# diagram link in documentation \n",
    "\n",
    "year = int(input(\"Which year do yo want to check? \")) \n",
    "\n",
    "if year % 4 == 0:\n",
    "    print(\"Leap year.\")\n",
    "    if year % 100 == 0: \n",
    "        print(\"Not leap year.\")\n",
    "        if year % 400 == 0:\n",
    "            print(\"Leap year.\")\n",
    "        else:\n",
    "            print(\"Not leap year.\")\n",
    "    else:\n",
    "        print(\"Leap year.\")\n",
    "else:\n",
    "    print(\"Not leap year.\")\n",
    "\n",
    "# 4'ün katı olan yıllar, artık yıldır.\n",
    "# 4'ün katı olup 100'e temiz bölünen yıllar, artık yıl değildir. \n",
    "# 400'ün katı olan yıllar artık yıldır. \n",
    "# bilgi : 100'ün katı olmayan artık yıllar, 400'e kalansız bölünmese bile yinede artık yıldır. "
   ]
  },
  {
   "cell_type": "code",
   "execution_count": 13,
   "metadata": {},
   "outputs": [
    {
     "name": "stdout",
     "output_type": "stream",
     "text": [
      "Welcome to the rollercoaster!\n",
      "You can ride the rollercoaster!\n",
      "Everything is going to be ok. Ride for free!\n",
      "your final bill is $3\n"
     ]
    }
   ],
   "source": [
    "# diagram link in documentation\n",
    "\n",
    "print(\"Welcome to the rollercoaster!\")\n",
    "height = int(input(\"What is your height in cm? \"))\n",
    "bill = 0\n",
    "\n",
    "if height >= 120:\n",
    "    print(\"You can ride the rollercoaster!\")\n",
    "\n",
    "    age = int(input(\"What is your age? \"))\n",
    "    if age <= 12:\n",
    "        bill = 5\n",
    "        print(\"Child tickets are $5.\")\n",
    "    elif age <= 18:\n",
    "        bill = 7\n",
    "        print(\"Youth tickets are $7.\")\n",
    "    elif age >= 45 and age <= 55:\n",
    "        print(\"Everything is going to be ok. Ride for free!\") # midlife crisis\n",
    "    else:\n",
    "        bill = 12\n",
    "        print(\"Adult tickets are $12.\")\n",
    "    \n",
    "    photo = input(\"Do yo want a photo taken? Y or N \")\n",
    "    if photo == \"Y\":\n",
    "        bill += 3\n",
    "    \n",
    "    print(f\"your final bill is ${bill}\")\n",
    "\n",
    "else:\n",
    "    print(\"Sorry, you have to grow taller before you can ride.\")"
   ]
  },
  {
   "cell_type": "code",
   "execution_count": 5,
   "metadata": {},
   "outputs": [
    {
     "name": "stdout",
     "output_type": "stream",
     "text": [
      "Welcome to Python pizza deliveries!\n",
      "Your final bill is $26.\n"
     ]
    }
   ],
   "source": [
    "# Çalışıyor ama hatalı \n",
    "\n",
    "print(\"Welcome to Python pizza deliveries!\")\n",
    "\n",
    "size = input(\"What size pizza do you want? S,M or L \")\n",
    "add_pepperoni = input(\"Do you want pepperoni? Y or N \")\n",
    "ekstra_cheese = input(\"Do you want ekstra cheese? Y or N \")\n",
    "\n",
    "bill = 0\n",
    "# faturaı değiştirebilecek pek çok etken olduğu için eklemek daha mantıklı. Yani = yerine +=\n",
    "\n",
    "if size == \"S\":\n",
    "    bill = +15\n",
    "    if add_pepperoni == \"Y\":\n",
    "        bill += 2\n",
    "elif size == \"M\":\n",
    "    bill = +20\n",
    "    if add_pepperoni == \"Y\":\n",
    "        bill += 3\n",
    "else:\n",
    "    bill = +25\n",
    "\n",
    "if ekstra_cheese == \"Y\":\n",
    "    bill += 1\n",
    "\n",
    "print(f\"Your final bill is ${bill}.\")"
   ]
  },
  {
   "cell_type": "code",
   "execution_count": 6,
   "metadata": {},
   "outputs": [
    {
     "name": "stdout",
     "output_type": "stream",
     "text": [
      "Welcome to Python pizza deliveries!\n",
      "Your final bill is $29.\n"
     ]
    }
   ],
   "source": [
    "print(\"Welcome to Python pizza deliveries!\")\n",
    "\n",
    "size = input(\"What size pizza do you want? S,M or L \")\n",
    "add_pepperoni = input(\"Do you want pepperoni? Y or N \") # small pizza = +2$, medium and large pizza = +3$\n",
    "ekstra_cheese = input(\"Do you want ekstra cheese? Y or N \") # all pizzas = +1$\n",
    "\n",
    "bill = 0\n",
    "\n",
    "if size == \"S\":\n",
    "    bill += 15\n",
    "elif size == \"M\":\n",
    "    bill += 20\n",
    "else:\n",
    "    bill += 25\n",
    "\n",
    "if add_pepperoni == \"Y\":\n",
    "    if size == \"S\":\n",
    "        bill += 2\n",
    "    else:\n",
    "        bill += 3\n",
    "\n",
    "if ekstra_cheese == \"Y\":\n",
    "    bill += 1\n",
    "\n",
    "print(f\"Your final bill is ${bill}.\")"
   ]
  },
  {
   "cell_type": "code",
   "execution_count": 2,
   "metadata": {},
   "outputs": [
    {
     "name": "stdout",
     "output_type": "stream",
     "text": [
      "Welcome to the Love Calculator!\n",
      "Akane Tsunemori\n",
      "Shuusei Kagari\n",
      "Your score is 94 you go together like coke and mentos! \n"
     ]
    }
   ],
   "source": [
    "print(\"Welcome to the Love Calculator!\")\n",
    "name1 = input(\"What is your name? \")\n",
    "print(name1)\n",
    "name2 = input(\"What is his name? \")\n",
    "print(name2)\n",
    "\n",
    "combined_string = name1 + name2\n",
    "lower_case_string = combined_string.lower()\n",
    "\n",
    "t = lower_case_string.count(\"t\")\n",
    "r = lower_case_string.count(\"r\")\n",
    "u = lower_case_string.count(\"u\")\n",
    "e = lower_case_string.count(\"e\")\n",
    "\n",
    "true = t + r + u + e \n",
    "\n",
    "l = lower_case_string.count(\"l\")\n",
    "o = lower_case_string.count(\"o\")\n",
    "v = lower_case_string.count(\"v\")\n",
    "e = lower_case_string.count(\"e\")\n",
    "\n",
    "love = l + o + v + e\n",
    "\n",
    "love_skore = str(true) + str(love)\n",
    "\n",
    "if int(love_skore) < 10 or int(love_skore) > 90:\n",
    "    print(f\"Your score is {love_skore} you go together like coke and mentos! \")\n",
    "elif int(love_skore) < 50 and int(love_skore) > 40:\n",
    "    print(f\"Your score is {love_skore}, you are alright together.\")\n",
    "else:\n",
    "    print(f\"Your score is {love_skore}.\")"
   ]
  }
 ],
 "metadata": {
  "kernelspec": {
   "display_name": "Python 3",
   "language": "python",
   "name": "python3"
  },
  "language_info": {
   "codemirror_mode": {
    "name": "ipython",
    "version": 3
   },
   "file_extension": ".py",
   "mimetype": "text/x-python",
   "name": "python",
   "nbconvert_exporter": "python",
   "pygments_lexer": "ipython3",
   "version": "3.11.0"
  },
  "orig_nbformat": 4
 },
 "nbformat": 4,
 "nbformat_minor": 2
}
